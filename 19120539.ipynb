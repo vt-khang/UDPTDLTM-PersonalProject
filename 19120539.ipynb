{
  "nbformat": 4,
  "nbformat_minor": 0,
  "metadata": {
    "colab": {
      "private_outputs": true,
      "provenance": [],
      "authorship_tag": "ABX9TyMGE0NUYRTeR0UBZ0Nww7uL",
      "include_colab_link": true
    },
    "kernelspec": {
      "name": "python3",
      "display_name": "Python 3"
    },
    "language_info": {
      "name": "python"
    }
  },
  "cells": [
    {
      "cell_type": "markdown",
      "metadata": {
        "id": "view-in-github",
        "colab_type": "text"
      },
      "source": [
        "<a href=\"https://colab.research.google.com/github/vt-khang/UDPTDLTM-PersonalProject/blob/main/19120539.ipynb\" target=\"_parent\"><img src=\"https://colab.research.google.com/assets/colab-badge.svg\" alt=\"Open In Colab\"/></a>"
      ]
    },
    {
      "cell_type": "markdown",
      "source": [
        "# <center>ĐỒ ÁN CÁ NHÂN: ỨNG DỤNG PHÂN TÍCH DỮ LIỆU THÔNG MINH</center>\n",
        "\n",
        "- **Họ và tên:** Vương Thế Khang\n",
        "- **MSSV**: 19120539"
      ],
      "metadata": {
        "id": "8hHi6Tuw5dZ4"
      }
    },
    {
      "cell_type": "markdown",
      "source": [
        "## Import"
      ],
      "metadata": {
        "id": "UQdNnsu15-Ol"
      }
    },
    {
      "cell_type": "code",
      "execution_count": null,
      "metadata": {
        "id": "XQCVlwgq3sDW"
      },
      "outputs": [],
      "source": [
        "import pandas as pd\n",
        "import numpy as np\n",
        "import matplotlib.pyplot as plt\n",
        "import seaborn as sns\n",
        "import geopandas as gpd\n",
        "import plotly.express as px\n",
        "import json\n",
        "\n",
        "from urllib.request import urlopen\n",
        "\n",
        "sns.set_theme(style = 'whitegrid')"
      ]
    },
    {
      "cell_type": "markdown",
      "source": [
        "## A. THU THẬP DỮ LIỆU"
      ],
      "metadata": {
        "id": "U6Mk_-8e6SIL"
      }
    },
    {
      "cell_type": "markdown",
      "source": [
        "Bộ dữ liệu được cung cấp được dùng để phân tích và rút ra các kết luận dựa vào các số liệu thống kê về các tỷ phú trên thế giới. Thời gian dữ liệu được thu thập là trong năm 2023.\n",
        "\n",
        "Theo như mô tả về bộ dữ liệu trên [Kaggle](https://www.kaggle.com/datasets/nelgiriyewithana/billionaires-statistics-dataset/data):\n",
        "\n",
        "> Bộ dữ liệu này chứa số liệu thống kê về các tỷ phú trên thế giới, bao gồm thông tin về doanh nghiệp, lĩnh vực kinh doanh cũng và các thông tin cá nhân của họ. Điều này cung cấp một cái nhìn sâu sắc về sự phân bố tài sản, lĩnh vực kinh doanh và nhân khẩu học của các tỷ phú trên toàn thế giới.\n",
        "\n",
        "Các file dữ liệu này bao gồm:\n",
        "\n",
        "- \"Billionaires Statistics Dataset.csv\""
      ],
      "metadata": {
        "id": "kCsMC9Fu61mv"
      }
    },
    {
      "cell_type": "markdown",
      "source": [
        "## B. KHÁM PHÁ DỮ LIỆU"
      ],
      "metadata": {
        "id": "sLFWmFEx88AV"
      }
    },
    {
      "cell_type": "markdown",
      "source": [
        "Đầu tiên, ta sẽ xem thử bộ dữ liệu trông như thế nào. Đọc dữ liệu từ file \"Billionaires Statistics Dataset.csv\" và lưu vào dataframe `billion_df`."
      ],
      "metadata": {
        "id": "bBzZsL2B89tc"
      }
    },
    {
      "cell_type": "code",
      "source": [
        "billion_df = pd.read_csv('https://raw.githubusercontent.com/vt-khang/UDPTDLTM-PersonalProject/main/Billionaires%20Statistics%20Dataset.csv')\n",
        "billion_df.head()"
      ],
      "metadata": {
        "id": "nQgAveZA4n2S"
      },
      "execution_count": null,
      "outputs": []
    },
    {
      "cell_type": "markdown",
      "source": [
        "### Dữ liệu có bao nhiêu dòng và bao nhiêu cột?"
      ],
      "metadata": {
        "id": "eW-q7b9s9MFb"
      }
    },
    {
      "cell_type": "code",
      "source": [
        "billion_df.shape"
      ],
      "metadata": {
        "id": "BrrfvIVd6jOz"
      },
      "execution_count": null,
      "outputs": []
    },
    {
      "cell_type": "markdown",
      "source": [
        "Vậy dữ liệu có kích thước **2640 dòng x 35 cột**."
      ],
      "metadata": {
        "id": "3xTv6o-x9Tbj"
      }
    },
    {
      "cell_type": "markdown",
      "source": [
        "### Mỗi dòng có ý nghĩa gì? Có vấn đề các dòng có ý nghĩa khác nhau không?"
      ],
      "metadata": {
        "id": "KtFaZMxC9ews"
      }
    },
    {
      "cell_type": "markdown",
      "source": [
        "Quan sát sơ bộ dữ liệu ta thấy mỗi dòng chứa thông tin của một tỷ phú, có vẻ như không có vấn đề các dòng có ý nghĩa khác nhau."
      ],
      "metadata": {
        "id": "Y-V-DNJ29jrr"
      }
    },
    {
      "cell_type": "markdown",
      "source": [
        "### Dữ liệu có các dòng bị lặp không?"
      ],
      "metadata": {
        "id": "pnGhrQhT9svZ"
      }
    },
    {
      "cell_type": "markdown",
      "source": [
        "Kiểm tra xem dữ liệu có các dòng bị lặp không và lưu kết quả vào biến `have_duplicated_row`. Biến này sẽ có giá trị `True` nếu dữ liệu có các dòng bị lặp và có giá trị `False` nếu ngược lại."
      ],
      "metadata": {
        "id": "Lv4J515r90R-"
      }
    },
    {
      "cell_type": "code",
      "source": [
        "have_duplicated_row = any(billion_df.duplicated())\n",
        "have_duplicated_row"
      ],
      "metadata": {
        "id": "iVUU8a1U9Sbe"
      },
      "execution_count": null,
      "outputs": []
    },
    {
      "cell_type": "markdown",
      "source": [
        "Như vậy, không có dòng nào bị lặp lại."
      ],
      "metadata": {
        "id": "xNYbmK8k-M5k"
      }
    },
    {
      "cell_type": "markdown",
      "source": [
        "### Mỗi cột có ý nghĩa gì?"
      ],
      "metadata": {
        "id": "jx3YbhVv-Rx2"
      }
    },
    {
      "cell_type": "markdown",
      "source": [
        "Ta sẽ lưu tên của tất cả các cột vào biến `billion_cols`."
      ],
      "metadata": {
        "id": "ssegWTF0-kZN"
      }
    },
    {
      "cell_type": "code",
      "source": [
        "billion_cols = billion_df.columns\n",
        "billion_cols"
      ],
      "metadata": {
        "id": "pLopOfYA-JaV"
      },
      "execution_count": null,
      "outputs": []
    },
    {
      "cell_type": "markdown",
      "source": [
        "Mỗi cột của tập dữ liệu `billion_df` có ý nghĩa như sau:\n",
        "\n",
        "| Cột | Ý nghĩa |\n",
        "| --- | --- |\n",
        "| **rank** | xếp hạng của mỗi tỷ phú theo mức độ giàu có |\n",
        "| **finalWorth** | giá trị ròng cuối cùng của tỷ phú tính bằng đô-la Mỹ |\n",
        "| **category** | danh mục hoặc lĩnh vực mà doanh nghiệp của tỷ phú hoạt động |\n",
        "| **personName** | tên đầy đủ của tỷ phú |\n",
        "| **age** | tuổi của tỷ phú |\n",
        "| **country** | quốc gia nơi tỷ phú sinh sống |\n",
        "| **city** | thành phố nơi tỷ phú sinh sống |\n",
        "| **source** | nguồn lợi nhuận của tỷ phú (công ty, doanh nghiệp,...) |\n",
        "| **industries** | các lĩnh vực kinh doanh hoặc gắn liền lợi ích kinh doanh của tý phú |\n",
        "| **countryOfCitizenship** | quốc tịch của tỷ phú |\n",
        "| **organization** | tên của tổ chức hoặc công ty liên kết với tỷ phú |\n",
        "| **selfMade** | cho biết tỷ phú có tự lập kinh doanh không |\n",
        "| **status** | cho biết trạng thái của tỷ phú là tự lập kinh doanh (nhà sáng lập/doanh nhân) hoặc được thừa kế tài sản hoặc không kiếm được |\n",
        "| **gender** | giới tính của tỷ phú |\n",
        "| **birthDate** | ngày sinh của tỷ phú |\n",
        "| **lastName** | họ của tỷ phú |\n",
        "| **firstName** | tên của tỷ phú |\n",
        "| **title** | danh hiệu của tỷ phú |\n",
        "| **date** | ngày thu thập dữ liệu |\n",
        "| **state** | bang nơi tỷ phú sinh sống |\n",
        "| **residenceStateRegion** | khu vực hoặc tiểu bang cư trú của tỷ phú |\n",
        "| **birthYear** | năm sinh của tỷ phú |\n",
        "| **birthMonth** | tháng sinh của tỷ phú |\n",
        "| **birthDay** | ngày sinh của tỷ phú |\n",
        "| **cpi_country** | chỉ số giá tiêu dùng (CPI) của quốc gia tỷ phú |\n",
        "| **cpi_change_country** | CPI thay đổi của quốc gia tỷ phú |\n",
        "| **gdp_country** | tổng sản phẩm trong nước (GDP) của quốc gia tỷ phú |\n",
        "| **gross_tertiary_education_enrollment** | tuyển sinh vào giáo dục đại học ở quốc gia tỷ phú |\n",
        "| **gross_primary_education_enrollment_country** | tuyển sinh vào giáo dục tiểu học ở quốc gia tỷ phú |\n",
        "| **life_expectancy_country** | tuổi thọ của quốc gia tỷ phú |\n",
        "| **tax_revenue_country_country** | doanh thu thuế ở quốc gia tỷ phú |\n",
        "| **total_tax_rate_country** | tổng thuế suất tại quốc gia tỷ phú |\n",
        "| **population_country** | dân số của quốc gia tỷ phú |\n",
        "| **latitude_country** | vĩ độ của quốc gia tỷ phú |\n",
        "| **longitude_country** | kinh độ của quốc gia tỷ phú |"
      ],
      "metadata": {
        "id": "PBSFnyaA-9-q"
      }
    },
    {
      "cell_type": "markdown",
      "source": [
        "### Mỗi cột hiện đang có kiểu dữ liệu gì?"
      ],
      "metadata": {
        "id": "QL1xgJwI49s1"
      }
    },
    {
      "cell_type": "markdown",
      "source": [
        "Xem thử kiểu dữ liệu của các cột dữ liệu."
      ],
      "metadata": {
        "id": "TQlXJq5-5AFf"
      }
    },
    {
      "cell_type": "code",
      "source": [
        "billion_df.info()"
      ],
      "metadata": {
        "id": "dPzJ0RFs-eYL"
      },
      "execution_count": null,
      "outputs": []
    },
    {
      "cell_type": "markdown",
      "source": [
        "Như vậy có thể thấy:\n",
        "- Các cột \"age\", \"birthYear\", \"birthMonth\", \"birthDay\" đang có kiểu dữ liệu `float`, ta cần chuyển cột này sang kiểu dữ liệu `int`.\n",
        "- Cột \"gender\" đang có kiểu dữ liệu `object`, ta cần chuyển cột này sang kiểu dữ liệu `int`.\n",
        "- Các cột \"birthDate\" và \"date\" đang có kiểu dữ liệu `object`, ta cần chuyển các cột này sang kiểu dữ liệu `datetime`.\n",
        "- Cột \"gdp_country\" đang có kiểu dữ liệu `object`, ta cần chuyển cột này sang kiểu dữ liệu `int`.\n",
        "- Cột \"population_country\" đang có kiểu dữ liệu `float`, ta cần chuyển cột này sang kiểu dữ liệu `int`.\n",
        "\n",
        "Ta sẽ làm điều này ở bước tiền xử lý dữ liệu."
      ],
      "metadata": {
        "id": "ZoMzCu5c63gW"
      }
    },
    {
      "cell_type": "markdown",
      "source": [
        "---"
      ],
      "metadata": {
        "id": "NtvaXfzy8cOc"
      }
    },
    {
      "cell_type": "markdown",
      "source": [
        "**Tiền xử lý dữ liệu:** Thay đổi kiểu dữ liệu"
      ],
      "metadata": {
        "id": "iVfHgMNA8fqF"
      }
    },
    {
      "cell_type": "markdown",
      "source": [
        "Thay đổi kiểu dữ liệu của các cột \"age\", \"birthYear\", \"birthMonth\", \"birthDay\" sang kiểu dữ liệu dạng `int`."
      ],
      "metadata": {
        "id": "siIhnk188rSc"
      }
    },
    {
      "cell_type": "code",
      "source": [
        "billion_df[['age', 'birthYear', 'birthMonth', 'birthDay']] = billion_df[['age', 'birthYear', 'birthMonth', 'birthDay']].astype('Int64')"
      ],
      "metadata": {
        "id": "_3lCWezB6uID"
      },
      "execution_count": null,
      "outputs": []
    },
    {
      "cell_type": "markdown",
      "source": [
        "Thay đổi kiểu dữ liệu của cột \"gender\" sang kiểu dữ liệu dạng `int`. Hiện tại cột này chỉ có 2 giá trị phân biệt. Ta sẽ quy ước cách chuyển đổi như sau:\n",
        "- \"M\" (male) -> chuyển thành giá trị 0.\n",
        "- \"F\" (female) -> chuyển thành giá trị 1."
      ],
      "metadata": {
        "id": "ntQSczVzCrg5"
      }
    },
    {
      "cell_type": "code",
      "source": [
        "billion_df['gender'] = billion_df['gender'].map({'M': 0, 'F': 1}).astype('int')"
      ],
      "metadata": {
        "id": "KK1U4FOvC7xG"
      },
      "execution_count": null,
      "outputs": []
    },
    {
      "cell_type": "markdown",
      "source": [
        "Thay đổi kiểu dữ liệu của các cột \"birthDate\" và \"date\" sang kiểu dữ liệu dạng `datetime`."
      ],
      "metadata": {
        "id": "OKfeiEmh-baG"
      }
    },
    {
      "cell_type": "code",
      "source": [
        "billion_df['birthDate'] = billion_df['birthDate'].astype('datetime64')\n",
        "billion_df['date'] = billion_df['date'].astype('datetime64')"
      ],
      "metadata": {
        "id": "-ez6S6Dn-ISJ"
      },
      "execution_count": null,
      "outputs": []
    },
    {
      "cell_type": "markdown",
      "source": [
        "Thay đổi kiểu dữ liệu của cột \"gdp_country\" sang kiểu dữ liệu dạng `int`. Hiện tại các giá trị của cột này có dạng \"$1,000,000,000\" nên ta sẽ xử lý chuỗi trước."
      ],
      "metadata": {
        "id": "UkhnXk9j-3Lr"
      }
    },
    {
      "cell_type": "code",
      "source": [
        "billion_df['gdp_country'] = billion_df['gdp_country'].replace('[\\$,]', '', regex = True).astype('Int64')"
      ],
      "metadata": {
        "id": "O4UPN1Op-rWg"
      },
      "execution_count": null,
      "outputs": []
    },
    {
      "cell_type": "markdown",
      "source": [
        "Thay đổi kiểu dữ liệu của cột \"population_country\" sang kiểu dữ liệu dạng `int`."
      ],
      "metadata": {
        "id": "tLezXwBS_iu7"
      }
    },
    {
      "cell_type": "code",
      "source": [
        "billion_df['population_country'] = billion_df['population_country'].astype('Int64')"
      ],
      "metadata": {
        "id": "WoUtX_3P-9kv"
      },
      "execution_count": null,
      "outputs": []
    },
    {
      "cell_type": "markdown",
      "source": [
        "Xem thử kiểu dữ liệu của các cột dữ liệu trên."
      ],
      "metadata": {
        "id": "0RiFc1V9AGeE"
      }
    },
    {
      "cell_type": "code",
      "source": [
        "billion_df.dtypes"
      ],
      "metadata": {
        "id": "-Er7PgoQ_mpI"
      },
      "execution_count": null,
      "outputs": []
    },
    {
      "cell_type": "markdown",
      "source": [
        "Hiện tại các cột dữ liệu có kiểu dữ liệu đúng, nên ta chỉ chuyển đổi các cột có ít giá trị khác nhau về dạng `category` để tối ưu bộ nhớ và tăng tốc độ xử lý dữ liệu.\n",
        "\n",
        "Ta sẽ sử dụng phương pháp tìm số lượng giá trị phân biệt của từng cột và chọn lọc những cột có ít giá trị phân biệt nhất để đưa các cột này về kiểu dữ liệu dạng phân loại `category`.\n",
        "\n",
        "Với mỗi cột đang có kiểu dữ liệu là `object`. Ta sẽ tính số lượng các giá trị khác nhau (không xét giá trị NaN) và lưu vào dataframe `object_col_df`. Sau đó sắp xếp theo thứ tự giảm dần số lượng các giá trị khác nhau \"nunique\"."
      ],
      "metadata": {
        "id": "hPZoQGKzAW7g"
      }
    },
    {
      "cell_type": "code",
      "source": [
        "def nunique(s):\n",
        "  return s.nunique()\n",
        "\n",
        "object_cols = billion_df.select_dtypes(include = 'object').columns\n",
        "object_col_df = billion_df[object_cols].agg([nunique]).T.sort_values('nunique', ascending = False)\n",
        "object_col_df"
      ],
      "metadata": {
        "id": "3A34_9fhAN_W"
      },
      "execution_count": null,
      "outputs": []
    },
    {
      "cell_type": "markdown",
      "source": [
        "Từ bảng thống kê trên, ta thấy các cột \"category\", \"industries\", \"status\", \"residenceStateRegion\" nên đổi thành các cột thuộc dạng phân loại (categorical).\n",
        "\n",
        "Thay đổi kiểu dữ liệu của các cột \"category\", \"industries\", \"status\", \"residenceStateRegion\" sang kiểu dữ liệu dạng `category`."
      ],
      "metadata": {
        "id": "Er28CTtVDULA"
      }
    },
    {
      "cell_type": "code",
      "source": [
        "billion_df[['category', 'industries', 'status', 'residenceStateRegion']] = billion_df[['category', 'industries', 'status', 'residenceStateRegion']].astype('category')"
      ],
      "metadata": {
        "id": "qwCUi7EXA2FI"
      },
      "execution_count": null,
      "outputs": []
    },
    {
      "cell_type": "markdown",
      "source": [
        "Tương tự như trên, như vậy có thể thấy có một số cột đang có kiểu dữ liệu dạng số number. Ta sẽ sử dụng phương pháp tìm số lượng giá trị phân biệt của từng cột và chọn lọc những cột có ít giá trị phân biệt nhất để đưa các cột này về kiểu dữ liệu dạng phân loại `category`.\n",
        "\n",
        "Với mỗi cột đang có kiểu dữ liệu dạng số như `int`, `float`. Ta sẽ tính số lượng các giá trị khác nhau (không xét giá trị NaN) và lưu vào dataframe `number_col_df`. Sau đó sắp xếp theo thứ tự giảm dần số lượng các giá trị khác nhau \"nunique\"."
      ],
      "metadata": {
        "id": "IK8PkdVeDus8"
      }
    },
    {
      "cell_type": "code",
      "source": [
        "number_cols = billion_df.select_dtypes(include = 'number').columns\n",
        "number_col_df = billion_df[number_cols].agg([nunique]).T.sort_values('nunique', ascending = False)\n",
        "number_col_df"
      ],
      "metadata": {
        "id": "RA6PIkgiBXL9"
      },
      "execution_count": null,
      "outputs": []
    },
    {
      "cell_type": "markdown",
      "source": [
        "Từ bảng thống kê bên trên, ta có thể thấy cột \"birthYear\", \"birthDay\", \"birthMonth, \"gender\" đang có kiểu dữ liệu `int`. Ta cần đưa các cột này về dạng `category`."
      ],
      "metadata": {
        "id": "4KIJxh5ID_gg"
      }
    },
    {
      "cell_type": "code",
      "source": [
        "billion_df[['birthYear', 'birthDay', 'birthMonth', 'gender']] = billion_df[['birthYear', 'birthDay', 'birthMonth', 'gender']].astype('category')"
      ],
      "metadata": {
        "id": "xANcCkjdD7Gj"
      },
      "execution_count": null,
      "outputs": []
    },
    {
      "cell_type": "markdown",
      "source": [
        "Xem lại kiểu dữ liệu của các cột dữ liệu sau khi tiền xử lý."
      ],
      "metadata": {
        "id": "WAPJ96dRENdb"
      }
    },
    {
      "cell_type": "code",
      "source": [
        "billion_df.dtypes"
      ],
      "metadata": {
        "id": "6uNFyb83EMq-"
      },
      "execution_count": null,
      "outputs": []
    },
    {
      "cell_type": "markdown",
      "source": [
        "Có vẻ các cột đều có kiểu dữ liệu phù hợp. Nếu trong quá trình phân tích dữ liệu cần phải thay đổi kiểu dữ liệu của các cột thì ta sẽ quay lại tiền xử lý ở đây, tạm thời ta chấp nhận kiểu dữ liệu hiện tại của các cột."
      ],
      "metadata": {
        "id": "suPHbapHEaNX"
      }
    },
    {
      "cell_type": "markdown",
      "source": [
        "### Với mỗi cột có kiểu dữ liệu dạng số (numerical), các giá trị được phân bố như thế nào?"
      ],
      "metadata": {
        "id": "eapw8ZnOEewk"
      }
    },
    {
      "cell_type": "markdown",
      "source": [
        "Với mỗi cột numerical, ta sẽ tính số lượng giá trị thiếu, tỉ lệ % giá trị thiếu (từ 0 đến 100), số lượng giá trị xuất hiện (count), giá trị nhỏ nhất (min), giá trị trung bình (mean), giá trị trung vị (median), giá trị lớn nhất (max), các khoảng tứ phân vị (Q1, Q3) và độ lệch chuẩn (std). Sau đó ta sẽ lưu các giá trị này vào dataframe `numerical_col_df` thành 10 dòng là \"num_missing_val\", \"ratio_missing_val\", \"count\", \"min\", \"mean\", \"median\", \"max\", \"Q1\", \"Q3\", \"std\"."
      ],
      "metadata": {
        "id": "GxFGao3jE9of"
      }
    },
    {
      "cell_type": "code",
      "source": [
        "def num_missing_val(s):\n",
        "  return s.isna().sum()\n",
        "def ratio_missing_val(s):\n",
        "  return s.isna().mean() * 100\n",
        "def count(s):\n",
        "  return s.count();\n",
        "def Q1(s):\n",
        "  return s.quantile(0.25)\n",
        "def Q3(s):\n",
        "  return s.quantile(0.75)\n",
        "\n",
        "numerical_cols = billion_df.select_dtypes(include = 'number').columns\n",
        "numerical_col_df = billion_df[numerical_cols].agg([num_missing_val, ratio_missing_val, count, min, np.mean, np.median, max, Q1, Q3, np.std]).round(3).T\n",
        "numerical_col_df[['num_missing_val', 'count']] = numerical_col_df[['num_missing_val', 'count']].astype(int)\n",
        "numerical_col_df"
      ],
      "metadata": {
        "id": "jxIgH4CMEO0s"
      },
      "execution_count": null,
      "outputs": []
    },
    {
      "cell_type": "markdown",
      "source": [
        "Ta rút ra được các kết luận sau:\n",
        "- Các cột \"rank\" và \"finalWorth\" không có xuất hiện các giá trị bị thiếu, trong khi các cột còn lại có xuất hiện giá trị bị thiếu với tỉ lệ từ **6.212%** đến **6.97%** và riêng cột \"age\" có giá trị bị thiếu với tỉ lệ **2.462%**. Ta sẽ tiền xử lý giá trị bị thiếu của cột này ở các bước sau.\n",
        "- Cột \"rank\" có giá trị thấp nhất (min) là **1** và giá trị cao nhất (max) là **2540**, tức là bộ dữ liệu trên chỉ thu thập từ tỷ phú xếp hạng 1 đến hạng 2540 về mức độ giàu có. Ta thấy dữ liệu có tổng cộng **2640** dòng nên điều này có nghĩa là bảng xếp hạng này có thể xét đến trường hợp đồng hạng nhau của các tỷ phú.\n",
        "- Cột \"age\" có giá trị trung bình là **65.14**, điều này có nghĩa tuổi thọ trung bình của các tỷ phú là khoảng **65** tuổi. Tỷ phú trẻ tuổi nhất là **18** tuổi (theo giá trị nhỏ nhất) và tỷ phú lớn tuổi nhất là **101** tuổi (theo giá trị lớn nhất).\n",
        "- Cột \"cpi_change_country\" có chứa giá trị âm **(min = -1.9)**, điều này có nghĩa CPI thay đổi của từng quốc gia có thể tăng hoặc giảm so với năm trước (2022), nếu giá trị âm có nghĩa là đang giảm và ngược lại nếu giá trị dương có nghĩa là đang tăng."
      ],
      "metadata": {
        "id": "SeNOK14jGwH3"
      }
    },
    {
      "cell_type": "markdown",
      "source": [
        "### Với mỗi cột có kiểu dữ liệu dạng phân loại (categorical), các giá trị được phân bố như thế nào?"
      ],
      "metadata": {
        "id": "VT60oStsKMTd"
      }
    },
    {
      "cell_type": "markdown",
      "source": [
        "Với mỗi cột categorical, ta sẽ tính số lượng giá trị thiếu, tỉ lệ % giá trị thiếu (từ 0 đến 100), số lượng giá trị xuất hiện (count), giá trị xuất hiện nhiều nhất (mode), số lượng giá trị xuất hiện nhiều nhất (không xét giá trị NaN), số lượng các giá trị khác nhau (không xét giá trị NaN) và danh sách các giá trị khác nhau (không xét giá trị NaN). Sau đó ta sẽ lưu các giá trị này vào dataframe `categorical_col_df` thành 7 dòng là \"num_missing_val\", \"ratio_missing_val\", \"count\", \"top\", \"freq\", \"nunique\", \"unique\"."
      ],
      "metadata": {
        "id": "GmI8__0iKO2w"
      }
    },
    {
      "cell_type": "code",
      "source": [
        "def unique(s):\n",
        "  return s.dropna().astype('object').unique()\n",
        "def top(s):\n",
        "  return s.mode()[0]\n",
        "def freq(s):\n",
        "  return (s == s.mode()[0]).value_counts()[True]\n",
        "\n",
        "categorical_cols = billion_df.select_dtypes(exclude = 'number').columns\n",
        "categorical_col_df = billion_df[categorical_cols].agg([num_missing_val, ratio_missing_val, count, top, freq, nunique, unique]).T\n",
        "categorical_col_df[['num_missing_val', 'count']] = categorical_col_df[['num_missing_val', 'count']].astype(int)\n",
        "categorical_col_df"
      ],
      "metadata": {
        "id": "3bSABVuyFITN"
      },
      "execution_count": null,
      "outputs": []
    },
    {
      "cell_type": "markdown",
      "source": [
        "Ta rút ra được các kết luận sau:\n",
        "- Một số cột có giá trị bị thiếu khá ít **(1.44% - 2.879%)** chẳng hạn \"country\", \"city\" \"birthDate\", \"birthYear\", \"birthMonth\", \"birthDay\". Ta để ý thấy số lượng các cột bị thiếu của cột \"birthDate\" (**76** cột) bằng với các cột \"birthYear\", \"birthMonth\", \"birthDay\", điều này cũng dễ hiểu.\n",
        "- Có một số cột có giá trị bị thiếu khá nhiều như \"organization\", \"title\", \"state\", \"residenceStateRegion\" (**trên 1800** dòng). Đối với cột \"state\" và \"residenceStateRegion\" chỉ có ý nghĩa khi quốc tịch của các tỷ phú là ở United States. Ta sẽ tìm cách xử lý chúng ở bước tiền xử lý dữ liệu.\n",
        "- Ở cột \"category\" và \"industries\" đều có số lượng giá trị phân biệt (unique) là **18** loại và các giá trị phân biệt này có vẻ giống nhau. Ta có thể loại bỏ đi cột \"category\" ở bước tiền xử lý dữ liệu.\n",
        "- Ở cột \"date\" chỉ có 2 giá trị phân biệt, điều này cho ta biết ngày thu thập dữ liệu chính xác là \"2023/04/04\" và được thu thập vào lúc \"05:01\" và \"09:01\".\n",
        "- Quốc gia có nhiều tỷ phú nhất là **United States**, lĩnh vực kinh doanh nhiều nhất là **Finance & Investments**, tổ chức có nhiều tỷ phú nhất là **Meta Platforms**, danh hiệu có nhiều tỷ phú nhất là **Investor**."
      ],
      "metadata": {
        "id": "smSK8QRSKuWY"
      }
    },
    {
      "cell_type": "markdown",
      "source": [
        "---"
      ],
      "metadata": {
        "id": "1nq7D69VxPMq"
      }
    },
    {
      "cell_type": "markdown",
      "source": [
        "**Tiền xử lý dữ liệu:** Loại bỏ các cột không cần thiết"
      ],
      "metadata": {
        "id": "3ShwEDw2xTcZ"
      }
    },
    {
      "cell_type": "markdown",
      "source": [
        "Loại bỏ các cột \"firstName\" và \"lastName\" vì 2 cột này đều được tách ra từ cột \"personName\"."
      ],
      "metadata": {
        "id": "yEqmEPu2xYZu"
      }
    },
    {
      "cell_type": "code",
      "source": [
        "billion_df.drop(columns = ['firstName', 'lastName'], inplace = True)"
      ],
      "metadata": {
        "id": "lsfwb4i-yd35"
      },
      "execution_count": null,
      "outputs": []
    },
    {
      "cell_type": "markdown",
      "source": [
        "Loại bỏ cột \"category\" vì ý nghĩa của cột \"category\" và \"industries\" là giống nhau như đã giải thích ở trên."
      ],
      "metadata": {
        "id": "fYGr8JN_yk7M"
      }
    },
    {
      "cell_type": "code",
      "source": [
        "billion_df.drop(columns = ['category'], inplace = True)"
      ],
      "metadata": {
        "id": "FlEPlM_CyoI2"
      },
      "execution_count": null,
      "outputs": []
    },
    {
      "cell_type": "code",
      "source": [
        "billion_df.shape"
      ],
      "metadata": {
        "id": "mRTIzJNXyyVr"
      },
      "execution_count": null,
      "outputs": []
    },
    {
      "cell_type": "markdown",
      "source": [
        "Sau khi loại bỏ 3 cột trên, tập dữ liệu có kích thước **2640 dòng x 32 cột**."
      ],
      "metadata": {
        "id": "T6vIKDtEy0NZ"
      }
    },
    {
      "cell_type": "markdown",
      "source": [
        "## C. TRỰC QUAN HÓA DỮ LIỆU"
      ],
      "metadata": {
        "id": "ftVLRjOFQKz0"
      }
    },
    {
      "cell_type": "markdown",
      "source": [
        "### Độ tuổi trung bình của các tỷ phú trên thế giới là bao nhiêu?"
      ],
      "metadata": {
        "id": "z130BGZJzwNI"
      }
    },
    {
      "cell_type": "markdown",
      "source": [
        "Để trả lời cho câu hỏi này, ta sẽ dùng biểu đồ cột để thể hiện số lượng tỷ phú trên thế giới theo từng độ tuổi. Trong đó:\n",
        "- Trục hoành: thể hiện tuổi (age).\n",
        "- Trục tung: thể hiện số người theo từng độ tuổi."
      ],
      "metadata": {
        "id": "VgUsMLVr0ple"
      }
    },
    {
      "cell_type": "code",
      "source": [
        "temp_billion_df = billion_df.copy()\n",
        "temp_billion_df['age'] = temp_billion_df['age'].astype('category')\n",
        "fig, ax = plt.subplots(figsize = (24, 8))\n",
        "sns.countplot(data = temp_billion_df, x = 'age', ax = ax)\n",
        "ax.bar_label(ax.containers[0], fontsize = 8)\n",
        "ax.set_xticklabels(ax.get_xticklabels(), rotation = 90, fontsize = 8)\n",
        "plt.title('Biểu đồ thể hiện số lượng tỷ phú trên thế giới theo từng độ tuổi')\n",
        "plt.xlabel('Tuổi')\n",
        "plt.ylabel('Số người')\n",
        "plt.show()"
      ],
      "metadata": {
        "id": "WvRqnaBgKfLG"
      },
      "execution_count": null,
      "outputs": []
    },
    {
      "cell_type": "markdown",
      "source": [
        "**Nhận xét:** Quan sát biểu đồ trên, ta nhận thấy:\n",
        "- Trung bình từ độ tuổi **55 đến 73 tuổi** là độ tuổi có nhiều người tỷ phú nhất. Đây được cho là độ tuổi của những người có nhiều kinh nghiệm nhất.\n",
        "- Tỷ phú trẻ tuổi nhất là **18 tuổi** và tỷ phú lớn tuổi nhất là **101 tuổi**.\n"
      ],
      "metadata": {
        "id": "hHzedGGa1BT3"
      }
    },
    {
      "cell_type": "markdown",
      "source": [
        "Giả sử nếu ta chia độ tuổi của tỷ phú thành 2 loại: \"Tỷ phú dưới 50 tuổi\" và \"Tỷ phú trên hoặc bằng 50 tuổi\". Ta sẽ dùng biểu đồ tròn để thể hiện điều này. Trong đó:\n",
        "- Màu xanh: thể hiện số lượng tỷ phú có độ tuổi dưới 50.\n",
        "- Màu cam: thể hiện số lượng tỷ phú có độ tuổi trên hoặc bằng 50."
      ],
      "metadata": {
        "id": "Zz0N60KsbZZt"
      }
    },
    {
      "cell_type": "code",
      "source": [
        "group_age_billion_df = pd.Series([billion_df[billion_df['age'] < 50].shape[0], billion_df[billion_df['age'] >= 50].shape[0]])\n",
        "fig, ax = plt.subplots(figsize = (8, 8))\n",
        "ax.pie(group_age_billion_df, labels = ['< 50 tuổi', '>= 50 tuổi'], colors = sns.color_palette('pastel'), autopct = '%1.1f%%')\n",
        "ax.set_title('Biểu đồ thể hiện tỉ lệ về độ tuổi của tỷ phú theo 2 nhóm')\n",
        "ax.legend()\n",
        "plt.show()"
      ],
      "metadata": {
        "id": "BEXT-NOjbzw-"
      },
      "execution_count": null,
      "outputs": []
    },
    {
      "cell_type": "markdown",
      "source": [
        "**Nhận xét:** Quan sát biểu đồ trên, ta nhận thấy có **89%** những người tỷ phú đều trên hoặc bằng 50 tuổi, còn lại chỉ **11%** những người tỷ phú có độ tuổi nhỏ hơn 50 tuổi.\n"
      ],
      "metadata": {
        "id": "MzEwBVLXdQ_L"
      }
    },
    {
      "cell_type": "markdown",
      "source": [],
      "metadata": {
        "id": "m3UuWepnOGJ3"
      }
    },
    {
      "cell_type": "markdown",
      "source": [
        "### Có nhiều tỷ phú xuất thân tự kinh doanh không giữa nam và nữ?"
      ],
      "metadata": {
        "id": "0nS5IKkI12mt"
      }
    },
    {
      "cell_type": "markdown",
      "source": [
        "Để trả lời cho câu hỏi này, ta sẽ dùng 2 loại biểu đồ tròn để thể hiện điều này. Trong đó:\n",
        "- Màu xanh: thể hiện số lượng tỷ phú có giới tính nam.\n",
        "- Màu cam: thể hiện số lượng tỷ phú có giới tính nữ.\n",
        "\n",
        "Mỗi biểu đồ sẽ thể hiện số lượng tỷ phú có tự lập kinh doanh (bên trái) và số lượng tỷ phú không có tự lập kinh doanh (bên phải)."
      ],
      "metadata": {
        "id": "e8_e044W3o1n"
      }
    },
    {
      "cell_type": "code",
      "source": [
        "selfmade_billion_df = billion_df[billion_df['selfMade'] == True]\n",
        "non_selfmade_billion_df = billion_df[billion_df['selfMade'] == False]\n",
        "fig, ax = plt.subplots(1, 3, figsize = (26, 8))\n",
        "ax[0].pie(billion_df['selfMade'].value_counts(), labels = ['True', 'False'], colors = sns.color_palette('pastel'), autopct = '%1.1f%%')\n",
        "ax[0].set_title('Biểu đồ thể hiện tỉ lệ giữa tỷ phú có tự lập kinh doanh và không có tự lập kinh doanh')\n",
        "ax[0].legend()\n",
        "ax[1].pie(selfmade_billion_df['gender'].value_counts(), labels = ['Male', 'Female'], colors = sns.color_palette('pastel'), autopct = '%1.1f%%')\n",
        "ax[1].set_title('Biểu đồ thể hiện tỉ lệ giữa nam và nữ tỷ phú có tự lập kinh doanh')\n",
        "ax[1].legend()\n",
        "ax[2].pie(non_selfmade_billion_df['gender'].value_counts(), labels = ['Male', 'Female'], colors = sns.color_palette('pastel'), autopct = '%1.1f%%')\n",
        "ax[2].set_title('Biểu đồ thể hiện tỉ lệ giữa nam và nữ tỷ phú không có tự lập kinh doanh')\n",
        "ax[2].legend()\n",
        "plt.show()"
      ],
      "metadata": {
        "id": "e8fu957Y0KMw"
      },
      "execution_count": null,
      "outputs": []
    },
    {
      "cell_type": "markdown",
      "source": [
        "**Nhận xét:** Quan sát biểu đồ trên, ta nhận thấy:\n",
        "- Đa số khoảng **68.6%** tỷ phú trên thế giới xuất thân từ việc tự kinh doanh.\n",
        "- Đối với những người tỷ phú xuất thân từ việc tự kinh doanh, có thể thấy tỉ lệ nam tỷ phú chiếm áp đảo **(~94.7%)** so với nữ tỷ phú.\n",
        "- Trong khi đó những người không xuất thân từ việc tự kinh doanh cho thấy nam tỷ phú chỉ chiếm **khoảng 2.4 lần** so với nữ tỷ phú, tuy nhiên trên tỉ lệ giới tính nam là tỷ phú vẫn thống trị phân bố."
      ],
      "metadata": {
        "id": "fMjcKp5P4Xhc"
      }
    },
    {
      "cell_type": "markdown",
      "source": [
        "### Hiện nay các tỷ phú tập trung nhiều ở các quốc gia nào?"
      ],
      "metadata": {
        "id": "cjv7aFBj54iO"
      }
    },
    {
      "cell_type": "markdown",
      "source": [
        "Để trả lời cho câu hỏi này, ta sẽ dùng biểu đồ map để thể hiện phân bố về các quốc gia mà các tỷ phú đang sinh sống. Trong đó, ta dùng vòng tròn biểu thị màu sắc từ tím tới vàng và kích thước vòng tròn càng lớn đều thể hiện số lượng tỷ phú đang sinh sống ở quốc gia đó theo hướng tăng dần."
      ],
      "metadata": {
        "id": "P86qxDINNDik"
      }
    },
    {
      "cell_type": "code",
      "source": [
        "with urlopen('https://raw.githubusercontent.com/vt-khang/UDPTDLTM-PersonalProject/main/countries.geojson') as response:\n",
        "  countries = json.load(response)\n",
        "for i in range(0, len(countries['features'])):\n",
        "  temp_country = countries['features'][i]\n",
        "  countries['features'][i] |= { 'id': temp_country['properties']['ISO_A3'] }\n",
        "\n",
        "geometry_df = pd.DataFrame(columns = ['country', 'ISO_A3', 'ISO_A2'])\n",
        "for country in countries['features']:\n",
        "  properties_object = country['properties']\n",
        "  properties_object['country'] = properties_object.pop('ADMIN')\n",
        "  geometry_df = pd.concat([geometry_df, pd.DataFrame.from_records([properties_object])], ignore_index = True)\n",
        "\n",
        "rename_country_dict = { 'Bahamas': 'The Bahamas',\n",
        "                      'Eswatini (Swaziland)': 'Swaziland',\n",
        "                      'Hong Kong': 'Hong Kong S.A.R.',\n",
        "                      'Tanzania': 'United Republic of Tanzania',\n",
        "                      'United States': 'United States of America' }"
      ],
      "metadata": {
        "id": "08PkHgVPM4r4"
      },
      "execution_count": null,
      "outputs": []
    },
    {
      "cell_type": "code",
      "source": [
        "country_cols = ['country', 'cpi_country', 'cpi_change_country', 'gdp_country', 'gross_tertiary_education_enrollment', 'gross_primary_education_enrollment_country',\n",
        "                'life_expectancy_country', 'tax_revenue_country_country', 'total_tax_rate_country', 'population_country', 'latitude_country', 'longitude_country']\n",
        "country_billion_df = billion_df['country'].value_counts().reset_index()\n",
        "country_billion_df.columns = ['country', 'count']\n",
        "country_billion_df = pd.merge(country_billion_df, billion_df[country_cols].drop_duplicates(), on = 'country', how = 'inner')\n",
        "country_billion_df['country'] = country_billion_df['country'].replace(rename_country_dict)\n",
        "country_billion_df = pd.merge(country_billion_df, geometry_df, on = 'country', how = 'inner')\n",
        "\n",
        "fig = px.choropleth_mapbox(country_billion_df, geojson = countries, locations = 'ISO_A3', color = 'count', color_continuous_scale = \"Viridis\", hover_name = 'country', title = 'Biểu đồ phân bố về các quốc gia nơi tỷ phú đang sinh sống', mapbox_style = 'carto-positron', zoom = 3, opacity = 0.5)\n",
        "fig.update_layout(margin = { \"r\": 0, \"t\": 0, \"l\": 0, \"b\": 0 })\n",
        "fig.show()"
      ],
      "metadata": {
        "id": "6OsTqEt33hWg"
      },
      "execution_count": null,
      "outputs": []
    },
    {
      "cell_type": "markdown",
      "source": [
        "**Nhận xét:** Quan sát biểu đồ trên, ta nhận thấy:\n",
        "- Mỹ, Trung Quốc, Ấn Độ, Đức, Anh, Nga là các nước có nhiều tỷ phú sinh sống nhất trên thế giới. Trong đó, riêng Mỹ có tới **754** người đang sinh sống và Trung Quốc có tới **523** người đang sinh sống.\n",
        "- Ngoài ra, có khá nhiều nước ở khu vực châu Phi không có nhiều tỷ phú sinh sống, nếu có thường **không quá 5 người**. Có thể do điều kiện khí hậu ở đây khắc nghiệt hơn chăng."
      ],
      "metadata": {
        "id": "IBLnm4EQidvZ"
      }
    },
    {
      "cell_type": "markdown",
      "source": [
        "### Lĩnh vực nào có nhiều nhà tỷ phú đầu tư nhất?"
      ],
      "metadata": {
        "id": "7N_SobMSjh86"
      }
    },
    {
      "cell_type": "markdown",
      "source": [
        "Để trả lời cho câu hỏi này, ta sẽ dùng biểu đồ cột ngang để thể hiện số lượng tỷ phú trên thế giới theo từng lĩnh vực kinh doanh. Trong đó:\n",
        "- Trục tung: thể hiện tên lĩnh vực kinh doanh (industries).\n",
        "- Trục hoành: thể hiện số người tương ứng."
      ],
      "metadata": {
        "id": "n4HNZ8TWk2wl"
      }
    },
    {
      "cell_type": "code",
      "source": [
        "fig, ax = plt.subplots(figsize = (24, 8))\n",
        "sns.countplot(data = billion_df, y = 'industries', order = billion_df['industries'].value_counts().index, ax = ax)\n",
        "ax.bar_label(ax.containers[0], fontsize = 8)\n",
        "plt.title('Biểu đồ thể hiện số lượng tỷ phú trên thế giới theo từng lĩnh vực kinh doanh')\n",
        "plt.xlabel('Số người')\n",
        "plt.ylabel('Lĩnh vực kinh doanh')\n",
        "plt.show()"
      ],
      "metadata": {
        "id": "GXYJrQ7ghpy9"
      },
      "execution_count": null,
      "outputs": []
    },
    {
      "cell_type": "markdown",
      "source": [
        "**Nhận xét:** Quan sát biểu đồ trên, ta nhận thấy lĩnh vực được đầu tư nhiều nhất là \"Finance & Investments\" (Tài chính & Đầu tư) với **372** người, theo sau đó là \"Manufacturing\" (Sản xuất) và \"Technology\" (Công nghệ). Có vẻ như ngành \"Gambling & Casinos\" (Cờ bạc & Sòng bạc) ít được chú ý tới đối với các tỷ phú."
      ],
      "metadata": {
        "id": "HKlLozoLlIth"
      }
    },
    {
      "cell_type": "markdown",
      "source": [
        "Tương tự, ta cũng sẽ dùng thêm một biểu đồ cột ngang để thể hiện tổng giá trị tài sản ròng của các tỷ phú trên thế giới theo từng lĩnh vực kinh doanh. Trong đó:\n",
        "- Trục tung: thể hiện tên lĩnh vực kinh doanh (industries).\n",
        "- Trục hoành: thể hiện tổng giá trị tài sản ròng (finalWorth)."
      ],
      "metadata": {
        "id": "FtM02CGB3e8R"
      }
    },
    {
      "cell_type": "code",
      "source": [
        "final_worth_industry_billion_df = billion_df.copy()\n",
        "final_worth_industry_billion_df = final_worth_industry_billion_df.groupby(['industries']).sum(numeric_only = True).reset_index()\n",
        "fig, ax = plt.subplots(figsize = (24, 8))\n",
        "sns.barplot(data = final_worth_industry_billion_df, x = 'finalWorth', y = 'industries', order = final_worth_industry_billion_df.sort_values('finalWorth', ascending = False)['industries'], ax = ax)\n",
        "ax.bar_label(ax.containers[0], fontsize = 8)\n",
        "plt.title('Biểu đồ thể hiện tổng giá trị tài sản ròng của các tỷ phú trên thế giới theo từng lĩnh vực kinh doanh')\n",
        "plt.xlabel('Tài sản (triệu đô-la Mỹ)')\n",
        "plt.ylabel('Lĩnh vực kinh doanh')\n",
        "plt.show()"
      ],
      "metadata": {
        "id": "jAhdsvdW2GqG"
      },
      "execution_count": null,
      "outputs": []
    },
    {
      "cell_type": "markdown",
      "source": [
        "**Nhận xét:** Quan sát biểu đồ trên, ta nhận thấy lĩnh vực có nhiều giá trị tài sản nhất ở đây lại là \"Technology\" (Công nghệ). Ngược lại, lĩnh vực có ít giá trị tài sản là \"Construction & Engineering\" (Kiến trúc & Kỹ thuật), theo sau đó là \"Gambling & Casinos\" (Cờ bạc & Sòng bạc)."
      ],
      "metadata": {
        "id": "xnvmeQ2B3umi"
      }
    },
    {
      "cell_type": "markdown",
      "source": [
        "### Có sự khác nhau về lĩnh vực kinh doanh giữa tỷ phú nam và nữ không?"
      ],
      "metadata": {
        "id": "N4zgPHtR5awt"
      }
    },
    {
      "cell_type": "markdown",
      "source": [
        "Để trả lời cho câu hỏi này, ta sẽ dùng 2 biểu đồ cột ngang để thể hiện số lượng tỷ phú trên thế giới (nam và nữ) theo từng lĩnh vực kinh doanh. Trong đó:\n",
        "- Trục tung: thể hiện tên lĩnh vực kinh doanh (industries).\n",
        "- Trục hoành: thể hiện số người tương ứng."
      ],
      "metadata": {
        "id": "kTzGCrg36hl6"
      }
    },
    {
      "cell_type": "code",
      "source": [
        "men_industry_df = billion_df[billion_df['gender'] == 0]\n",
        "women_industry_df = billion_df[billion_df['gender'] == 1]\n",
        "fig, ax = plt.subplots(1, 2, figsize = (36, 12))\n",
        "sns.countplot(data = men_industry_df, y = 'industries', order = men_industry_df['industries'].value_counts().index, ax = ax[0])\n",
        "ax[0].bar_label(ax[0].containers[0], fontsize = 8)\n",
        "ax[0].set_title('Biểu đồ thể hiện số lượng tỷ phú nam trên thế giới theo từng lĩnh vực kinh doanh')\n",
        "ax[0].set_xlabel('Số người')\n",
        "ax[0].set_ylabel('Lĩnh vực kinh doanh')\n",
        "sns.countplot(data = women_industry_df, y = 'industries', order = women_industry_df['industries'].value_counts().index, ax = ax[1])\n",
        "ax[1].bar_label(ax[1].containers[0], fontsize = 8)\n",
        "ax[1].set_title('Biểu đồ thể hiện số lượng tỷ phú nữ trên thế giới theo từng lĩnh vực kinh doanh')\n",
        "ax[1].set_xlabel('Số người')\n",
        "ax[1].set_ylabel('Lĩnh vực kinh doanh')\n",
        "plt.show()"
      ],
      "metadata": {
        "id": "_cdbJZbC5h0p"
      },
      "execution_count": null,
      "outputs": []
    },
    {
      "cell_type": "markdown",
      "source": [
        "**Nhận xét:** Quan sát biểu đồ trên, ta nhận thấy:\n",
        "- Lĩnh vực được nhiều tỷ phú nam đầu tư nhất là \"Finance & Investments\" (Tài chính & Đầu tư).\n",
        "- Trong khi đó, lĩnh vực được nhiều tỷ phú nữ đầu tư nhất lại là \"Food & Beverage\" (Thực phẩm & Nước giải khát). Không có nữ tỷ phú nào trong bảng xếp hạng đầu tư về lĩnh vực \"Telecom\" (Viễn thông)."
      ],
      "metadata": {
        "id": "9rnig5zI6pa7"
      }
    },
    {
      "cell_type": "markdown",
      "source": [
        "### Giá trị tài sản ròng của các tỷ phú được phân bố như thế nào theo quốc tịch?"
      ],
      "metadata": {
        "id": "nO1ZbD7zl_pE"
      }
    },
    {
      "cell_type": "markdown",
      "source": [
        "Để trả lời cho câu hỏi này, ta sẽ dùng biểu đồ map để thể hiện phân bố về tổng giá trị tài sản ròng của các tỷ phú theo quốc tịch. Trong đó, ta dùng vòng tròn biểu thị màu sắc từ tím tới vàng và kích thước vòng tròn càng lớn đều thể hiện giá trị tài sản ròng tại quốc gia đó càng cao."
      ],
      "metadata": {
        "id": "W9gal20y9ekJ"
      }
    },
    {
      "cell_type": "code",
      "source": [
        "country_citizenship_billion_df = billion_df.groupby(['countryOfCitizenship']).sum(numeric_only = True).reset_index()\n",
        "country_citizenship_billion_df['countryOfCitizenship'] = country_citizenship_billion_df['countryOfCitizenship'].replace(rename_country_dict)\n",
        "country_citizenship_billion_df = pd.merge(country_citizenship_billion_df.rename(columns = { 'countryOfCitizenship': 'country' }), geometry_df, on = 'country', how = 'inner')\n",
        "\n",
        "fig = px.choropleth_mapbox(country_citizenship_billion_df, geojson = countries, locations = 'ISO_A3', color = 'finalWorth', color_continuous_scale = \"Viridis\", hover_name = 'country', title = 'Biểu đồ phân bố về tổng giá trị tài sản ròng của các tỷ phú theo quốc tịch', mapbox_style = 'carto-positron', zoom = 3, opacity = 0.5)\n",
        "fig.update_layout(margin = { \"r\": 0, \"t\": 0, \"l\": 0, \"b\": 0 })\n",
        "fig.show()"
      ],
      "metadata": {
        "id": "KcvX-GE37ZC3"
      },
      "execution_count": null,
      "outputs": []
    },
    {
      "cell_type": "markdown",
      "source": [
        "**Nhận xét:** Quan sát biểu đồ trên, ta nhận thấy rằng Mỹ đứng đầu thế giới về tổng giá trị tài sản ròng của các tỷ phú **(4490800 triệu đô la Mỹ)**. Tiếp theo là Trung Quốc đứng thứ 2 **(1648300 triệu đô la Mỹ)** và Ấn Độ đứng thứ 3 **(674000 triệu đô la Mỹ)**."
      ],
      "metadata": {
        "id": "ikKb48Ml9rhf"
      }
    },
    {
      "cell_type": "markdown",
      "source": [
        "Tiếp theo, ta sẽ dùng biểu đồ histogram để thể hiện phân bố của tài sản ròng của các tỷ phú. Trong đó:\n",
        "- Trục hoành: thể hiện giá trị tài sản ròng (từ 1000 đến hơn 100000) (finalWorth).\n",
        "- Trục tung: thể hiện số người tương ứng."
      ],
      "metadata": {
        "id": "47Iu_RINBXPT"
      }
    },
    {
      "cell_type": "code",
      "source": [
        "fig, ax = plt.subplots(figsize = (16, 6))\n",
        "sns.histplot(billion_df, x = 'finalWorth', log_scale = True)\n",
        "plt.title('Biểu đồ thể hiện phân bố của tài sản ròng của các tỷ phú')\n",
        "plt.xlabel('Tài sản ròng')\n",
        "plt.ylabel('Số lượng')\n",
        "plt.show()"
      ],
      "metadata": {
        "id": "MSZulmlmmzxj"
      },
      "execution_count": null,
      "outputs": []
    },
    {
      "cell_type": "code",
      "source": [
        "numerical_col_df.loc['finalWorth']"
      ],
      "metadata": {
        "id": "rJiIojX1CRcs"
      },
      "execution_count": null,
      "outputs": []
    },
    {
      "cell_type": "markdown",
      "source": [
        "**Nhận xét:** Quan sát biểu đồ trên, ta nhận thấy khi đồ thị lệch phải nghĩa là giá trị tài sản ròng của các tỷ phú tập trung chủ yếu không trên giá trị trung bình **(mean = 4623.788)**. Giá trị tối thiểu (min) của tài sản ròng đạt **1000** và giá trị tối đa (max) của tài sản ròng đạt **211000**."
      ],
      "metadata": {
        "id": "A1F7MPgTBrio"
      }
    },
    {
      "cell_type": "markdown",
      "source": [
        "## D. RÚT RA KẾT LUẬN"
      ],
      "metadata": {
        "id": "nsJ4YZyZCw8-"
      }
    },
    {
      "cell_type": "markdown",
      "source": [
        "1. Độ tuổi trung bình của một tỷ phú là **65 tuổi**. Tỷ phú trẻ tuổi nhất là **18 tuổi** và tỷ phú lớn tuổi nhất là **101 tuổi**.\n",
        "2. Có đến **89%** những người tỷ phú đều trên hoặc bằng 50 tuổi, còn lại chỉ **11%** những người tỷ phú có độ tuổi nhỏ hơn 50 tuổi.\n",
        "3. Đa số khoảng **68.6%** tỷ phú trên thế giới xuất thân từ việc tự kinh doanh. Trong đó tỉ lệ nam tỷ phú chiếm áp đảo **(~94.7%)** so với nữ tỷ phú.\n",
        "4. **Mỹ** hiện tại là đất nước có nhiều tỷ phú đang sinh sống, sau đó là **Trung Quốc, Ấn Độ, Đức, Anh, Nga**. Châu Phi không có nhiều điều kiện thích hợp nên có ít tỷ phú sinh sống ở đây.\n",
        "5. Lĩnh vực được đầu tư nhiều nhất là \"Finance & Investments\" (Tài chính & Đầu tư) với **372** người và lĩnh vực ít được đầu tư nhất là \"Gambling & Casinos\" (Cờ bạc & Sòng bạc) đối với các tỷ phú.\n",
        "6. Tuy nhiên lĩnh vực có nhiều giá trị tài sản nhất ở đây lại là \"Technology\" (Công nghệ). Ngược lại, lĩnh vực có ít giá trị tài sản là \"Construction & Engineering\" (Kiến trúc & Kỹ thuật), theo sau đó là \"Gambling & Casinos\" (Cờ bạc & Sòng bạc).\n",
        "7. Lĩnh vực được nhiều tỷ phú nam đầu tư nhất là \"Finance & Investments\" (Tài chính & Đầu tư). Trong khi đó, lĩnh vực được nhiều tỷ phú nữ đầu tư nhất lại là \"Food & Beverage\" (Thực phẩm & Nước giải khát). Không có nữ tỷ phú nào trong bảng xếp hạng đầu tư về lĩnh vực \"Telecom\" (Viễn thông).\n",
        "8. Mỹ đứng đầu thế giới về tổng giá trị tài sản ròng của các tỷ phú **(4490800 triệu đô la Mỹ)**. Tiếp theo là Trung Quốc đứng thứ 2 **(1648300 triệu đô la Mỹ)** và Ấn Độ đứng thứ 3 **(674000 triệu đô la Mỹ)**.\n",
        "9. Tài sản ròng của các tỷ phú trung bình khoảng **4623.788**. Giá trị tối thiểu của tài sản ròng đạt **1000** và giá trị tối đa của tài sản ròng đạt **211000**."
      ],
      "metadata": {
        "id": "-5YTgyRhN2Fz"
      }
    }
  ]
}